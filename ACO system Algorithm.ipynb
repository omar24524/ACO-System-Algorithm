{
 "cells": [
  {
   "cell_type": "code",
   "execution_count": 1,
   "metadata": {},
   "outputs": [],
   "source": [
    "import numpy as np\n",
    "import matplotlib.pyplot as plt"
   ]
  },
  {
   "cell_type": "code",
   "execution_count": 2,
   "metadata": {},
   "outputs": [],
   "source": [
    "class City:\n",
    "    def __init__(self, x, y):\n",
    "        self.x = x\n",
    "        self.y = y\n",
    "\n",
    "    def distance(self, other):\n",
    "        return np.sqrt((self.x - other.x)**2 + (self.y - other.y)**2)"
   ]
  },
  {
   "cell_type": "code",
   "execution_count": 3,
   "metadata": {},
   "outputs": [],
   "source": [
    "class Ant:\n",
    "    def __init__(self, num_cities):\n",
    "        self.tour = []\n",
    "        self.total_distance = 0\n",
    "        self.num_cities = num_cities\n",
    "\n",
    "    def clear(self):\n",
    "        self.tour = []\n",
    "        self.total_distance = 0"
   ]
  },
  {
   "cell_type": "code",
   "execution_count": 4,
   "metadata": {},
   "outputs": [],
   "source": [
    "def initialize_pheromone(num_cities, initial_pheromone):\n",
    "    return np.ones((num_cities, num_cities)) * initial_pheromone"
   ]
  },
  {
   "cell_type": "code",
   "execution_count": 5,
   "metadata": {},
   "outputs": [],
   "source": [
    "def calculate_visibility(cities):\n",
    "    num_cities = len(cities)\n",
    "    visibility = np.zeros((num_cities, num_cities))\n",
    "    for i in range(num_cities):\n",
    "        for j in range(num_cities):\n",
    "            if i != j:\n",
    "                visibility[i][j] = 1.0 / cities[i].distance(cities[j])\n",
    "    return visibility"
   ]
  },
  {
   "cell_type": "code",
   "execution_count": 6,
   "metadata": {},
   "outputs": [],
   "source": [
    "def select_next_city(current_city, unvisited_cities, pheromone, visibility, alpha, beta):\n",
    "    pheromone_values = np.array([pheromone[current_city][i] for i in unvisited_cities])\n",
    "    visibility_values = np.array([visibility[current_city][i] for i in unvisited_cities])\n",
    "    \n",
    "    probabilities = (pheromone_values**alpha) * (visibility_values**beta)\n",
    "    probabilities /= np.sum(probabilities)\n",
    "    \n",
    "    return np.random.choice(unvisited_cities, p=probabilities)"
   ]
  },
  {
   "cell_type": "code",
   "execution_count": 7,
   "metadata": {},
   "outputs": [],
   "source": [
    "def construct_solution(ant, cities, pheromone, visibility, alpha, beta):\n",
    "    num_cities = len(cities)\n",
    "    ant.clear()\n",
    "    start_city = np.random.randint(num_cities)\n",
    "    ant.tour.append(start_city)\n",
    "    \n",
    "    unvisited_cities = list(range(num_cities))\n",
    "    unvisited_cities.remove(start_city)\n",
    "    \n",
    "    current_city = start_city\n",
    "    while unvisited_cities:\n",
    "        next_city = select_next_city(current_city, unvisited_cities, pheromone, visibility, alpha, beta)\n",
    "        ant.tour.append(next_city)\n",
    "        ant.total_distance += cities[current_city].distance(cities[next_city])\n",
    "        unvisited_cities.remove(next_city)\n",
    "        current_city = next_city\n",
    "    \n",
    "    # Return to the starting city\n",
    "    ant.total_distance += cities[current_city].distance(cities[start_city])"
   ]
  },
  {
   "cell_type": "code",
   "execution_count": 8,
   "metadata": {},
   "outputs": [],
   "source": [
    "def update_pheromone(pheromone, ants, rho, Q):\n",
    "    num_cities = pheromone.shape[0]\n",
    "    # Evaporation\n",
    "    pheromone *= (1 - rho)\n",
    "    \n",
    "    # Deposit\n",
    "    for ant in ants:\n",
    "        contribution = Q / ant.total_distance\n",
    "        for i in range(len(ant.tour) - 1):\n",
    "            from_city = ant.tour[i]\n",
    "            to_city = ant.tour[i + 1]\n",
    "            pheromone[from_city][to_city] += contribution\n",
    "            pheromone[to_city][from_city] += contribution\n",
    "        # Add contribution for the return to the start\n",
    "        start_city = ant.tour[0]\n",
    "        last_city = ant.tour[-1]\n",
    "        pheromone[last_city][start_city] += contribution\n",
    "        pheromone[start_city][last_city] += contribution"
   ]
  },
  {
   "cell_type": "code",
   "execution_count": 9,
   "metadata": {},
   "outputs": [],
   "source": [
    "def aco_tsp(cities, num_ants, num_iterations, alpha, beta, rho, Q, initial_pheromone):\n",
    "    num_cities = len(cities)\n",
    "    pheromone = initialize_pheromone(num_cities, initial_pheromone)\n",
    "    visibility = calculate_visibility(cities)\n",
    "    \n",
    "    best_distance = float('inf')\n",
    "    best_tour = None\n",
    "    \n",
    "    for iteration in range(num_iterations):\n",
    "        ants = [Ant(num_cities) for _ in range(num_ants)]\n",
    "        \n",
    "        for ant in ants:\n",
    "            construct_solution(ant, cities, pheromone, visibility, alpha, beta)\n",
    "        \n",
    "        # Find the best ant of this iteration\n",
    "        iteration_best_ant = min(ants, key=lambda x: x.total_distance)\n",
    "        \n",
    "        if iteration_best_ant.total_distance < best_distance:\n",
    "            best_distance = iteration_best_ant.total_distance\n",
    "            best_tour = iteration_best_ant.tour\n",
    "        \n",
    "        update_pheromone(pheromone, ants, rho, Q)\n",
    "    \n",
    "    return best_tour, best_distance"
   ]
  },
  {
   "cell_type": "code",
   "execution_count": 10,
   "metadata": {},
   "outputs": [],
   "source": [
    "def plot_tour(cities, tour):\n",
    "    x = [cities[i].x for i in tour] + [cities[tour[0]].x]\n",
    "    y = [cities[i].y for i in tour] + [cities[tour[0]].y]\n",
    "    plt.plot(x, y, 'ro-')\n",
    "    plt.title('Best Tour Found by ACO')\n",
    "    plt.xlabel('X')\n",
    "    plt.ylabel('Y')\n",
    "    plt.show()"
   ]
  },
  {
   "cell_type": "code",
   "execution_count": 11,
   "metadata": {},
   "outputs": [
    {
     "name": "stdout",
     "output_type": "stream",
     "text": [
      "Best tour: [0, 4, 1, 6, 9, 7, 2, 8, 3, 5]\n",
      "Best distance: 290.3067737777875\n"
     ]
    },
    {
     "data": {
      "image/png": "[encoded data removed]",
      "text/plain": [
       "<Figure size 640x480 with 1 Axes>"
      ]
     },
     "metadata": {},
     "output_type": "display_data"
    }
   ],
   "source": [
    "if __name__ == \"__main__\":\n",
    "    np.random.seed(42)\n",
    "    num_cities = 10\n",
    "    cities = [City(np.random.uniform(0, 100), np.random.uniform(0, 100)) for _ in range(num_cities)]\n",
    "    \n",
    "    num_ants = 10\n",
    "    num_iterations = 100\n",
    "    alpha = 1\n",
    "    beta = 2\n",
    "    rho = 0.1\n",
    "    Q = 100\n",
    "    initial_pheromone = 1.0\n",
    "    \n",
    "    best_tour, best_distance = aco_tsp(cities, num_ants, num_iterations, alpha, beta, rho, Q, initial_pheromone)\n",
    "    print(f\"Best tour: {best_tour}\")\n",
    "    print(f\"Best distance: {best_distance}\")\n",
    "    \n",
    "    plot_tour(cities, best_tour)"
   ]
  },
  {
   "cell_type": "code",
   "execution_count": null,
   "metadata": {},
   "outputs": [],
   "source": []
  }
 ],
 "metadata": {
  "colab": {
   "provenance": []
  },
  "kernelspec": {
   "display_name": "Python 3 (ipykernel)",
   "language": "python",
   "name": "python3"
  },
  "language_info": {
   "codemirror_mode": {
    "name": "ipython",
    "version": 3
   },
   "file_extension": ".py",
   "mimetype": "text/x-python",
   "name": "python",
   "nbconvert_exporter": "python",
   "pygments_lexer": "ipython3",
   "version": "3.11.3"
  }
 },
 "nbformat": 4,
 "nbformat_minor": 1
}
